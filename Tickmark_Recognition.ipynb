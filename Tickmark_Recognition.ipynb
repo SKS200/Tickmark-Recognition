{
  "cells": [
    {
      "cell_type": "markdown",
      "metadata": {
        "id": "view-in-github",
        "colab_type": "text"
      },
      "source": [
        "<a href=\"https://colab.research.google.com/github/SKS200/Tickmark-Recognition/blob/main/Tickmark_Recognition.ipynb\" target=\"_parent\"><img src=\"https://colab.research.google.com/assets/colab-badge.svg\" alt=\"Open In Colab\"/></a>"
      ]
    },
    {
      "cell_type": "code",
      "execution_count": null,
      "metadata": {
        "colab": {
          "base_uri": "https://localhost:8080/"
        },
        "id": "km90Z0WZNLCa",
        "outputId": "fbe9aeca-dd9a-412b-86e7-f14cf611ee36"
      },
      "outputs": [
        {
          "name": "stdout",
          "output_type": "stream",
          "text": [
            "Drive already mounted at /content/drive; to attempt to forcibly remount, call drive.mount(\"/content/drive\", force_remount=True).\n"
          ]
        }
      ],
      "source": [
        "from google.colab import drive\n",
        "drive.mount('/content/drive')"
      ]
    },
    {
      "cell_type": "code",
      "execution_count": null,
      "metadata": {
        "id": "gqbEg6r5XG4g"
      },
      "outputs": [],
      "source": [
        "#data path\n",
        "#trainpath = '/content/drive/MyDrive/PL DATASET/DATASET /empty'\n",
        "#testpath = '/content/drive/MyDrive/PL DATASET/DATASET /filled'"
      ]
    },
    {
      "cell_type": "code",
      "execution_count": null,
      "metadata": {
        "id": "uxuhwIsKPIJb"
      },
      "outputs": [],
      "source": [
        "!unzip -qq data.zip"
      ]
    },
    {
      "cell_type": "code",
      "execution_count": null,
      "metadata": {
        "colab": {
          "base_uri": "https://localhost:8080/"
        },
        "id": "LqBfKey9PIMb",
        "outputId": "11b96633-3aae-4c45-e06b-d25c131f9920"
      },
      "outputs": [
        {
          "output_type": "stream",
          "name": "stdout",
          "text": [
            "Looking in indexes: https://pypi.org/simple, https://us-python.pkg.dev/colab-wheels/public/simple/\n",
            "Collecting split-folders\n",
            "  Downloading split_folders-0.5.1-py3-none-any.whl (8.4 kB)\n",
            "Installing collected packages: split-folders\n",
            "Successfully installed split-folders-0.5.1\n"
          ]
        }
      ],
      "source": [
        "!pip install split-folders"
      ]
    },
    {
      "cell_type": "code",
      "execution_count": null,
      "metadata": {
        "id": "D7jJjq4dhSvS"
      },
      "outputs": [],
      "source": [
        "#data path\n",
        "trainpath = '/content/drive/MyDrive/PL DATASET/DATASET /empty'\n",
        "testpath = '/content/drive/MyDrive/PL DATASET/DATASET /filled'"
      ]
    },
    {
      "cell_type": "code",
      "execution_count": null,
      "metadata": {
        "colab": {
          "base_uri": "https://localhost:8080/"
        },
        "id": "flrwzBuIPIPS",
        "outputId": "fb817f19-493b-4cf9-f711-f6920a21cf1a"
      },
      "outputs": [
        {
          "output_type": "stream",
          "name": "stderr",
          "text": [
            "Copying files: 6105 files [00:00, 9583.98 files/s]\n"
          ]
        }
      ],
      "source": [
        "import splitfolders   #or import split_folders\n",
        "splitfolders.ratio(\"data\", output=\"output\", seed=1337, ratio=(.8, .2), group_prefix=None) # default values\n"
      ]
    },
    {
      "cell_type": "code",
      "execution_count": null,
      "metadata": {
        "id": "SupCSMZdPTsI"
      },
      "outputs": [],
      "source": [
        "import random\n",
        "import cv2\n",
        "import numpy as np\n",
        "\n",
        "def add_noise(img):\n",
        "  size = 3\n",
        "  k = np.zeros((size,size))\n",
        "  k = k + random.randint(0,50)\n",
        "  times = random.randrange(2,4,2)\n",
        "  img = np.reshape(img,(img.shape[0],img.shape[1]))\n",
        "  for t in range(times):\n",
        "      col = random.randint(0,img.shape[1]-size-1)\n",
        "      row = random.randint(0,img.shape[0]-size-1)\n",
        "      img[row:row+size,0:size] = k\n",
        "      img[0:size,col:col+size] = k\n",
        "      col = random.randint(0,img.shape[1]-size-1)\n",
        "      row = random.randint(0,img.shape[0]-size-1)\n",
        "      img[row:row+size,-size:] = k\n",
        "      img[-size:,col:col+size] = k\n",
        "  return img\n",
        "    \n",
        "def preprocess(img):\n",
        "  x = random.random()\n",
        "  # print(img.shape)\n",
        "  if(x<0.25):\n",
        "    img = cv2.GaussianBlur(img,(3,3),0)\n",
        "\n",
        "  if(x>=0.25 and x<0.5):\n",
        "    filter = np.array([[-1, -1, -1], [-1, 9, -1], [-1, -1, -1]])\n",
        "    img=cv2.filter2D(img,-1,filter)\n",
        "  \n",
        "  # if(random.random()<0.2):\n",
        "  #   alpha = random.uniform(1, 1.5)\n",
        "  #   beta = random.randint(0, 1)\n",
        "  #   img = np.float32(cv2.convertScaleAbs(img, alpha=alpha, beta=beta))\n",
        "  # if(random.random()<0.2):\n",
        "  #   img = add_noise(img)  \n",
        "\n",
        "\n",
        "  return np.reshape(img,(1,48,48,1))"
      ]
    },
    {
      "cell_type": "code",
      "execution_count": null,
      "metadata": {
        "colab": {
          "base_uri": "https://localhost:8080/"
        },
        "id": "HzYuP444PTup",
        "outputId": "ac74d0fa-d3de-4b14-9cde-bbe7bdaf58ea"
      },
      "outputs": [
        {
          "output_type": "stream",
          "name": "stdout",
          "text": [
            "Found 4884 images belonging to 2 classes.\n",
            "Found 1221 images belonging to 2 classes.\n"
          ]
        }
      ],
      "source": [
        "from keras.preprocessing.image import ImageDataGenerator\n",
        "train_datagen = ImageDataGenerator(\n",
        "        rescale =1./255,\n",
        "        width_shift_range = 0.05,\n",
        "        height_shift_range = 0.05,\n",
        "        # zoom_range = [0.8,1],\n",
        "        preprocessing_function = preprocess)\n",
        "val_datagen = ImageDataGenerator(\n",
        "        rescale =1./255)\n",
        "train_generator = train_datagen.flow_from_directory(\n",
        "    'output//train',\n",
        "    target_size = (48, 48),\n",
        "    color_mode = 'grayscale',\n",
        "    batch_size = 16,\n",
        "    class_mode = 'binary')\n",
        "val_generator= val_datagen.flow_from_directory(\n",
        "    'output//val',\n",
        "    target_size = (48, 48),\n",
        "    color_mode = 'grayscale',\n",
        "    batch_size = 16,\n",
        "    class_mode = 'binary')"
      ]
    },
    {
      "cell_type": "code",
      "execution_count": null,
      "metadata": {
        "colab": {
          "base_uri": "https://localhost:8080/",
          "height": 1000
        },
        "id": "moKgm8IzPTx2",
        "outputId": "8c3d4d79-f77a-4840-9c31-e85f36cd2435"
      },
      "outputs": [
        {
          "output_type": "stream",
          "name": "stdout",
          "text": [
            "(16, 48, 48, 1)\n"
          ]
        },
        {
          "output_type": "display_data",
          "data": {
            "text/plain": [
              "<Figure size 432x288 with 1 Axes>"
            ],
            "image/png": "[encoded data removed]"
          },
          "metadata": {
            "needs_background": "light"
          }
        },
        {
          "output_type": "display_data",
          "data": {
            "text/plain": [
              "<Figure size 432x288 with 1 Axes>"
            ],
            "image/png": "[encoded data removed]"
          },
          "metadata": {
            "needs_background": "light"
          }
        },
        {
          "output_type": "display_data",
          "data": {
            "text/plain": [
              "<Figure size 432x288 with 1 Axes>"
            ],
            "image/png": "[encoded data removed]"
          },
          "metadata": {
            "needs_background": "light"
          }
        },
        {
          "output_type": "display_data",
          "data": {
            "text/plain": [
              "<Figure size 432x288 with 1 Axes>"
            ],
            "image/png": "[encoded data removed]"
          },
          "metadata": {
            "needs_background": "light"
          }
        }
      ],
      "source": [
        "import matplotlib.pyplot as plt\n",
        "x_batch, y_batch = train_generator.next()\n",
        "print(x_batch.shape)\n",
        "for i in range (0,4):\n",
        "    image1 = x_batch[i].squeeze( axis=2)\n",
        "    # print(np.unique(image2))\n",
        "    plt.imshow(image1)\n",
        "    plt.show()"
      ]
    },
    {
      "cell_type": "code",
      "execution_count": null,
      "metadata": {
        "id": "tzAUnJTKPcfT"
      },
      "outputs": [],
      "source": [
        "from keras.models import Sequential\n",
        "from keras import optimizers\n",
        "from keras.layers import Convolution2D, MaxPooling2D, Dropout, Flatten, Dense, Reshape, LSTM, Input\n",
        "model = Sequential()\n",
        "\n",
        "model.add(Input((48,48,1)))\n",
        "\n",
        "#add the layer below for an accuracy of 89%.(Training time - over 20 hours)\n",
        "model.add(Convolution2D(32, (3,3), input_shape=(48,48,1),activation='relu',padding='same'))\n",
        "model.add(MaxPooling2D(pool_size=(2,2)))\n",
        "model.add(Convolution2D(32, (3,3),activation='relu'))\n",
        "model.add(MaxPooling2D(pool_size=(2,2)))\n",
        "model.add(Convolution2D(64, (3,3),activation='relu'))\n",
        "model.add(MaxPooling2D(pool_size=(2,2)))\n",
        "model.add(Convolution2D(128, (3,3),activation='relu'))\n",
        "model.add(MaxPooling2D(pool_size=(2,2)))\n",
        "# model.add(Dropout(0.2))\n",
        "\n",
        "model.add(Flatten())\n",
        "# model.add(Dense(1024, activation='relu'))\n",
        "# model.add(Dense(512, activation='relu'))\n",
        "model.add(Dense(256, activation='relu'))\n",
        "model.add(Dense(1, activation='sigmoid'))\n",
        "# model.summary()"
      ]
    },
    {
      "cell_type": "code",
      "execution_count": null,
      "metadata": {
        "colab": {
          "base_uri": "https://localhost:8080/"
        },
        "id": "W4HIIGbRPsIV",
        "outputId": "6e3bdc8b-5390-423e-c3b6-93dd11bb65ba"
      },
      "outputs": [
        {
          "output_type": "stream",
          "name": "stderr",
          "text": [
            "/usr/local/lib/python3.7/dist-packages/keras/optimizer_v2/adam.py:105: UserWarning: The `lr` argument is deprecated, use `learning_rate` instead.\n",
            "  super(Adam, self).__init__(name, **kwargs)\n"
          ]
        }
      ],
      "source": [
        "from tensorflow.keras.callbacks import ModelCheckpoint\n",
        "from tensorflow.keras.optimizers import Adam\n",
        "\n",
        "\n",
        "model.compile(loss='binary_crossentropy',\n",
        "              optimizer=Adam(lr=1e-4),\n",
        "              metrics=['acc'])\n",
        "mcp_save = ModelCheckpoint('checkbox_final.h5', save_best_only=True, monitor='val_loss', mode='min')"
      ]
    },
    {
      "cell_type": "code",
      "execution_count": null,
      "metadata": {
        "id": "iiP5xLUxmT3a"
      },
      "outputs": [],
      "source": [
        "STEP_SIZE_TRAIN=train_generator.n//train_generator.batch_size\n",
        "STEP_SIZE_VALID=val_generator.n//val_generator.batch_size\n",
        "history = model.fit_generator(train_generator,steps_per_epoch=STEP_SIZE_TRAIN,validation_data=val_generator,validation_steps=STEP_SIZE_VALID,epochs=10)"
      ]
    },
    {
      "cell_type": "code",
      "execution_count": null,
      "metadata": {
        "id": "o7rBiJ07PsR2"
      },
      "outputs": [],
      "source": [
        "model.save('eight.h5')"
      ]
    },
    {
      "cell_type": "code",
      "execution_count": null,
      "metadata": {
        "colab": {
          "background_save": true
        },
        "id": "2qE08gi1PsVj"
      },
      "outputs": [],
      "source": [
        ""
      ]
    }
  ],
  "metadata": {
    "accelerator": "GPU",
    "colab": {
      "name": "Tickmark Recognition.ipynb",
      "provenance": [],
      "collapsed_sections": [],
      "mount_file_id": "1YE8t5paQ--oVUaNlDAdQ8OtNZ9I5J7A2",
      "authorship_tag": "ABX9TyPKy41ev7Jx3RQ4gseSfXYk",
      "include_colab_link": true
    },
    "kernelspec": {
      "display_name": "Python 3",
      "name": "python3"
    },
    "language_info": {
      "name": "python"
    }
  },
  "nbformat": 4,
  "nbformat_minor": 0
}